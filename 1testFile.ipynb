{
 "cells": [
  {
   "cell_type": "code",
   "execution_count": 7,
   "id": "01fb92cd",
   "metadata": {},
   "outputs": [],
   "source": [
    "from langgraph.graph import StateGraph,START,END\n"
   ]
  },
  {
   "cell_type": "code",
   "execution_count": 5,
   "id": "fb57e73b",
   "metadata": {},
   "outputs": [],
   "source": [
    "#define state\n",
    "from typing import TypedDict\n",
    "\n",
    "class BMIState(TypedDict):\n",
    "    weight_kg:float\n",
    "    height_m:float\n",
    "    bmi:float"
   ]
  },
  {
   "cell_type": "code",
   "execution_count": 29,
   "id": "ef447994",
   "metadata": {},
   "outputs": [],
   "source": [
    "def calcBMI(state:BMIState)->BMIState:\n",
    "    weight = state['weight_kg']\n",
    "    height = state['height_m']\n",
    "    bmi = weight/(height**2)\n",
    "    state['bmi'] = round(bmi,2)\n",
    "    return state\n"
   ]
  },
  {
   "cell_type": "code",
   "execution_count": null,
   "id": "90f403f3",
   "metadata": {},
   "outputs": [],
   "source": [
    "#define your graph\n",
    "graph = StateGraph(BMIState)\n",
    "\n",
    "#add nodes to your graph\n",
    "graph.add_node('calcBMI',calcBMI)\n",
    "\n",
    "#add edges \n",
    "graph.add_edge(START,'calcBMI')\n",
    "graph.add_edge('calcBMI',END)\n",
    "\n",
    "#compile the graph\n",
    "workflow = graph.compile()\n",
    "\n"
   ]
  },
  {
   "cell_type": "code",
   "execution_count": 13,
   "id": "93053eb2",
   "metadata": {},
   "outputs": [
    {
     "name": "stdout",
     "output_type": "stream",
     "text": [
      "{'weight_kg': 80, 'height_m': 1.73, 'bmi': 26.73}\n",
      "26.73\n"
     ]
    }
   ],
   "source": [
    "#execute the graph\n",
    "initial_state = {'weight_kg':80,'height_m':1.73}\n",
    "final_state = workflow.invoke(initial_state)\n",
    "print(final_state)\n",
    "print(final_state['bmi'])"
   ]
  },
  {
   "cell_type": "code",
   "execution_count": 14,
   "id": "2b1a76f7",
   "metadata": {},
   "outputs": [
    {
     "data": {
      "image/png": "[encoded data removed]",
      "text/plain": [
       "<IPython.core.display.Image object>"
      ]
     },
     "execution_count": 14,
     "metadata": {},
     "output_type": "execute_result"
    }
   ],
   "source": [
    "from IPython.display import Image\n",
    "Image(workflow.get_graph().draw_mermaid_png())"
   ]
  },
  {
   "cell_type": "code",
   "execution_count": 23,
   "id": "ed47354c",
   "metadata": {},
   "outputs": [],
   "source": [
    "#define state\n",
    "from typing import TypedDict\n",
    "\n",
    "class BMIState(TypedDict):\n",
    "    weight_kg:float\n",
    "    height_m:float\n",
    "    bmi:float\n",
    "    category:str"
   ]
  },
  {
   "cell_type": "code",
   "execution_count": 31,
   "id": "e457fdde",
   "metadata": {},
   "outputs": [],
   "source": [
    "def labelBMI(state:BMIState) ->BMIState:\n",
    "    bmi = state['bmi']\n",
    "\n",
    "    if(bmi<18.5):\n",
    "        state['category'] = \"Underweight\"\n",
    "    elif(18.5<=bmi<25):\n",
    "        state['category'] = 'Normal'\n",
    "    elif 25<=bmi<30:\n",
    "        state['category'] = 'Overweight'\n",
    "    else:\n",
    "        state['category'] = 'Obese'\n",
    "    return state"
   ]
  },
  {
   "cell_type": "code",
   "execution_count": 32,
   "id": "9c9e385c",
   "metadata": {},
   "outputs": [],
   "source": [
    "#define your graph\n",
    "graph = StateGraph(BMIState)\n",
    "\n",
    "#add nodes to your graph\n",
    "graph.add_node('calcBMI',calcBMI)\n",
    "graph.add_node('labelBMI',labelBMI)\n",
    "\n",
    "#add edges \n",
    "graph.add_edge(START,'calcBMI')\n",
    "graph.add_edge('calcBMI','labelBMI')\n",
    "graph.add_edge('labelBMI',END)\n",
    "\n",
    "#compile the graph\n",
    "workflow = graph.compile()\n",
    "\n"
   ]
  },
  {
   "cell_type": "code",
   "execution_count": 35,
   "id": "b0c7b758",
   "metadata": {},
   "outputs": [
    {
     "name": "stdout",
     "output_type": "stream",
     "text": [
      "{'weight_kg': 80, 'height_m': 1.73, 'bmi': 26.73, 'category': 'Overweight'}\n",
      "26.73\n"
     ]
    }
   ],
   "source": [
    "#execute the graph\n",
    "initial_state = {'weight_kg':80,'height_m':1.73}\n",
    "final_state = workflow.invoke(initial_state)\n",
    "print(final_state)\n",
    "print(final_state['bmi'])"
   ]
  },
  {
   "cell_type": "code",
   "execution_count": 34,
   "id": "8e622460",
   "metadata": {},
   "outputs": [
    {
     "data": {
      "image/png": "[encoded data removed]",
      "text/plain": [
       "<IPython.core.display.Image object>"
      ]
     },
     "execution_count": 34,
     "metadata": {},
     "output_type": "execute_result"
    }
   ],
   "source": [
    "from IPython.display import Image\n",
    "Image(workflow.get_graph().draw_mermaid_png())"
   ]
  },
  {
   "cell_type": "code",
   "execution_count": null,
   "id": "f0a3a06c",
   "metadata": {},
   "outputs": [],
   "source": []
  }
 ],
 "metadata": {
  "kernelspec": {
   "display_name": "myenv",
   "language": "python",
   "name": "python3"
  },
  "language_info": {
   "codemirror_mode": {
    "name": "ipython",
    "version": 3
   },
   "file_extension": ".py",
   "mimetype": "text/x-python",
   "name": "python",
   "nbconvert_exporter": "python",
   "pygments_lexer": "ipython3",
   "version": "3.12.4"
  }
 },
 "nbformat": 4,
 "nbformat_minor": 5
}
