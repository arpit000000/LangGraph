{
 "cells": [
  {
   "cell_type": "code",
   "execution_count": 58,
   "id": "becfd8c2",
   "metadata": {},
   "outputs": [],
   "source": [
    "from langgraph.graph import StateGraph, START, END\n",
    "from typing import TypedDict, Annotated\n",
    "from langchain_core.messages import BaseMessage, HumanMessage\n",
    "from langchain_google_genai import ChatGoogleGenerativeAI\n",
    "from dotenv import load_dotenv\n",
    "from langgraph.checkpoint.memory import InMemorySaver"
   ]
  },
  {
   "cell_type": "code",
   "execution_count": 59,
   "id": "d3948b35",
   "metadata": {},
   "outputs": [
    {
     "data": {
      "text/plain": [
       "True"
      ]
     },
     "execution_count": 59,
     "metadata": {},
     "output_type": "execute_result"
    }
   ],
   "source": [
    "load_dotenv()"
   ]
  },
  {
   "cell_type": "code",
   "execution_count": 60,
   "id": "a4903517",
   "metadata": {},
   "outputs": [],
   "source": [
    "llm = ChatGoogleGenerativeAI(model=\"gemini-2.0-flash\")"
   ]
  },
  {
   "cell_type": "code",
   "execution_count": 61,
   "id": "2ae5a5e6",
   "metadata": {},
   "outputs": [],
   "source": [
    "class JokeState(TypedDict):\n",
    "    topic:str\n",
    "    joke:str\n",
    "    explanation:str\n"
   ]
  },
  {
   "cell_type": "code",
   "execution_count": 62,
   "id": "36a4f3cd",
   "metadata": {},
   "outputs": [],
   "source": [
    "def generate(state:JokeState):\n",
    "    prompt = f'generate a joke on the topic {state[\"topic\"]}'\n",
    "    response = llm.invoke(prompt).content\n",
    "    return {'joke':response}"
   ]
  },
  {
   "cell_type": "code",
   "execution_count": 63,
   "id": "572181f2",
   "metadata": {},
   "outputs": [],
   "source": [
    "def generate_explanation(state: JokeState):\n",
    "\n",
    "    prompt = f'write an explanation for the joke - {state[\"joke\"]}'\n",
    "    response = llm.invoke(prompt).content\n",
    "\n",
    "    return {'explanation': response}"
   ]
  },
  {
   "cell_type": "code",
   "execution_count": 64,
   "id": "144001d2",
   "metadata": {},
   "outputs": [],
   "source": [
    "graph = StateGraph(JokeState)\n",
    "\n",
    "graph.add_node('generate_joke',generate)\n",
    "graph.add_node('generate_explanation',generate_explanation)\n",
    "\n",
    "graph.add_edge(START,'generate_joke')\n",
    "graph.add_edge('generate_joke','generate_explanation')\n",
    "graph.add_edge('generate_explanation',END)\n",
    "\n",
    "checkpointer = InMemorySaver()\n",
    "workflow = graph.compile(checkpointer=checkpointer)"
   ]
  },
  {
   "cell_type": "code",
   "execution_count": 65,
   "id": "4ec75feb",
   "metadata": {},
   "outputs": [
    {
     "data": {
      "text/plain": [
       "{'topic': 'pizza',\n",
       " 'joke': 'Why did the pizza maker quit his job?\\n\\nBecause he was tired of getting dough!',\n",
       " 'explanation': 'The joke relies on a **pun**, which is a play on words that uses a word with two different meanings.\\n\\nHere\\'s the breakdown:\\n\\n*   **Dough** has two meanings:\\n    *   The raw mixture of flour, water, and other ingredients used to make bread, pizza crust, etc. (the literal meaning in the context of a pizza maker)\\n    *   Slang for **money** (the intended meaning to make the joke funny)\\n\\nThe joke suggests the pizza maker quit because he was tired of handling the pizza dough (the literal meaning). However, the humorous interpretation is that he was tired of receiving money (the slang meaning), implying he had enough money and didn\\'t need the job anymore.\\n\\nThe humor comes from the unexpected twist in meaning when you realize \"dough\" is being used as a slang term for money.'}"
      ]
     },
     "execution_count": 65,
     "metadata": {},
     "output_type": "execute_result"
    }
   ],
   "source": [
    "config1 = {\"configurable\": {\"thread_id\": \"1\"}}\n",
    "workflow.invoke({'topic':'pizza'}, config=config1)"
   ]
  },
  {
   "cell_type": "code",
   "execution_count": 66,
   "id": "26f0ea18",
   "metadata": {},
   "outputs": [
    {
     "data": {
      "text/plain": [
       "StateSnapshot(values={'topic': 'pizza', 'joke': 'Why did the pizza maker quit his job?\\n\\nBecause he was tired of getting dough!', 'explanation': 'The joke relies on a **pun**, which is a play on words that uses a word with two different meanings.\\n\\nHere\\'s the breakdown:\\n\\n*   **Dough** has two meanings:\\n    *   The raw mixture of flour, water, and other ingredients used to make bread, pizza crust, etc. (the literal meaning in the context of a pizza maker)\\n    *   Slang for **money** (the intended meaning to make the joke funny)\\n\\nThe joke suggests the pizza maker quit because he was tired of handling the pizza dough (the literal meaning). However, the humorous interpretation is that he was tired of receiving money (the slang meaning), implying he had enough money and didn\\'t need the job anymore.\\n\\nThe humor comes from the unexpected twist in meaning when you realize \"dough\" is being used as a slang term for money.'}, next=(), config={'configurable': {'thread_id': '1', 'checkpoint_ns': '', 'checkpoint_id': '1f084995-efd9-6280-8002-8c83fa520d32'}}, metadata={'source': 'loop', 'step': 2, 'parents': {}}, created_at='2025-08-29T05:31:10.702451+00:00', parent_config={'configurable': {'thread_id': '1', 'checkpoint_ns': '', 'checkpoint_id': '1f084995-d9d3-6e53-8001-8fb1174c1508'}}, tasks=(), interrupts=())"
      ]
     },
     "execution_count": 66,
     "metadata": {},
     "output_type": "execute_result"
    }
   ],
   "source": [
    "workflow.get_state(config1)"
   ]
  },
  {
   "cell_type": "code",
   "execution_count": 67,
   "id": "1927ed89",
   "metadata": {},
   "outputs": [
    {
     "data": {
      "text/plain": [
       "[StateSnapshot(values={'topic': 'pizza', 'joke': 'Why did the pizza maker quit his job?\\n\\nBecause he was tired of getting dough!', 'explanation': 'The joke relies on a **pun**, which is a play on words that uses a word with two different meanings.\\n\\nHere\\'s the breakdown:\\n\\n*   **Dough** has two meanings:\\n    *   The raw mixture of flour, water, and other ingredients used to make bread, pizza crust, etc. (the literal meaning in the context of a pizza maker)\\n    *   Slang for **money** (the intended meaning to make the joke funny)\\n\\nThe joke suggests the pizza maker quit because he was tired of handling the pizza dough (the literal meaning). However, the humorous interpretation is that he was tired of receiving money (the slang meaning), implying he had enough money and didn\\'t need the job anymore.\\n\\nThe humor comes from the unexpected twist in meaning when you realize \"dough\" is being used as a slang term for money.'}, next=(), config={'configurable': {'thread_id': '1', 'checkpoint_ns': '', 'checkpoint_id': '1f084995-efd9-6280-8002-8c83fa520d32'}}, metadata={'source': 'loop', 'step': 2, 'parents': {}}, created_at='2025-08-29T05:31:10.702451+00:00', parent_config={'configurable': {'thread_id': '1', 'checkpoint_ns': '', 'checkpoint_id': '1f084995-d9d3-6e53-8001-8fb1174c1508'}}, tasks=(), interrupts=()),\n",
       " StateSnapshot(values={'topic': 'pizza', 'joke': 'Why did the pizza maker quit his job?\\n\\nBecause he was tired of getting dough!'}, next=('generate_explanation',), config={'configurable': {'thread_id': '1', 'checkpoint_ns': '', 'checkpoint_id': '1f084995-d9d3-6e53-8001-8fb1174c1508'}}, metadata={'source': 'loop', 'step': 1, 'parents': {}}, created_at='2025-08-29T05:31:08.393429+00:00', parent_config={'configurable': {'thread_id': '1', 'checkpoint_ns': '', 'checkpoint_id': '1f084995-c3e1-6632-8000-4e5b798fe86d'}}, tasks=(PregelTask(id='da943ea3-33ae-f85d-5085-90bf8892946a', name='generate_explanation', path=('__pregel_pull', 'generate_explanation'), error=None, interrupts=(), state=None, result={'explanation': 'The joke relies on a **pun**, which is a play on words that uses a word with two different meanings.\\n\\nHere\\'s the breakdown:\\n\\n*   **Dough** has two meanings:\\n    *   The raw mixture of flour, water, and other ingredients used to make bread, pizza crust, etc. (the literal meaning in the context of a pizza maker)\\n    *   Slang for **money** (the intended meaning to make the joke funny)\\n\\nThe joke suggests the pizza maker quit because he was tired of handling the pizza dough (the literal meaning). However, the humorous interpretation is that he was tired of receiving money (the slang meaning), implying he had enough money and didn\\'t need the job anymore.\\n\\nThe humor comes from the unexpected twist in meaning when you realize \"dough\" is being used as a slang term for money.'}),), interrupts=()),\n",
       " StateSnapshot(values={'topic': 'pizza'}, next=('generate_joke',), config={'configurable': {'thread_id': '1', 'checkpoint_ns': '', 'checkpoint_id': '1f084995-c3e1-6632-8000-4e5b798fe86d'}}, metadata={'source': 'loop', 'step': 0, 'parents': {}}, created_at='2025-08-29T05:31:06.092088+00:00', parent_config={'configurable': {'thread_id': '1', 'checkpoint_ns': '', 'checkpoint_id': '1f084995-c3de-6f1a-bfff-9f7798c020bd'}}, tasks=(PregelTask(id='6071cf41-df9b-46d7-7c19-5a6b8150d05f', name='generate_joke', path=('__pregel_pull', 'generate_joke'), error=None, interrupts=(), state=None, result={'joke': 'Why did the pizza maker quit his job?\\n\\nBecause he was tired of getting dough!'}),), interrupts=()),\n",
       " StateSnapshot(values={}, next=('__start__',), config={'configurable': {'thread_id': '1', 'checkpoint_ns': '', 'checkpoint_id': '1f084995-c3de-6f1a-bfff-9f7798c020bd'}}, metadata={'source': 'input', 'step': -1, 'parents': {}}, created_at='2025-08-29T05:31:06.091087+00:00', parent_config=None, tasks=(PregelTask(id='8f15f514-9683-d6d7-647c-7ff5f9f55de5', name='__start__', path=('__pregel_pull', '__start__'), error=None, interrupts=(), state=None, result={'topic': 'pizza'}),), interrupts=())]"
      ]
     },
     "execution_count": 67,
     "metadata": {},
     "output_type": "execute_result"
    }
   ],
   "source": [
    "list(workflow.get_state_history(config1))"
   ]
  },
  {
   "cell_type": "code",
   "execution_count": 68,
   "id": "5722223c",
   "metadata": {},
   "outputs": [
    {
     "data": {
      "text/plain": [
       "StateSnapshot(values={'topic': 'pizza'}, next=('generate_joke',), config={'configurable': {'thread_id': '1', 'checkpoint_id': '1f084995-c3e1-6632-8000-4e5b798fe86d'}}, metadata={'source': 'loop', 'step': 0, 'parents': {}}, created_at='2025-08-29T05:31:06.092088+00:00', parent_config={'configurable': {'thread_id': '1', 'checkpoint_ns': '', 'checkpoint_id': '1f084995-c3de-6f1a-bfff-9f7798c020bd'}}, tasks=(PregelTask(id='6071cf41-df9b-46d7-7c19-5a6b8150d05f', name='generate_joke', path=('__pregel_pull', 'generate_joke'), error=None, interrupts=(), state=None, result={'joke': 'Why did the pizza maker quit his job?\\n\\nBecause he was tired of getting dough!'}),), interrupts=())"
      ]
     },
     "execution_count": 68,
     "metadata": {},
     "output_type": "execute_result"
    }
   ],
   "source": [
    "workflow.get_state({\"configurable\": {\"thread_id\": \"1\", \"checkpoint_id\": \"1f084995-c3e1-6632-8000-4e5b798fe86d\"}})"
   ]
  },
  {
   "cell_type": "code",
   "execution_count": 69,
   "id": "54026c9a",
   "metadata": {},
   "outputs": [
    {
     "data": {
      "text/plain": [
       "{'topic': 'pizza',\n",
       " 'joke': 'Why did the pizza maker quit his job?\\n\\nBecause he was tired of getting dough-minated!',\n",
       " 'explanation': 'The joke plays on the word \"dominated\" by replacing it with \"dough-minated.\" Here\\'s the breakdown:\\n\\n* **Dominated:** This word means being controlled or ruled by someone or something else. A job can be \"dominating\" if it\\'s stressful, demanding, and leaves you feeling controlled.\\n\\n* **Dough:** This is the main ingredient in pizza crust.\\n\\n* **Dough-minated:** This is a pun combining \"dough\" and \"dominated.\" The pizza maker is literally dealing with dough all day.  The joke implies that he\\'s tired of being controlled or overwhelmed by the constant need to work with dough, or perhaps by the demands of making pizza.\\n\\nThe humor comes from the unexpected substitution of \"dominated\" with a word related to the context of the joke (pizza making), creating a silly and relatable reason for quitting a job. It\\'s a lighthearted and punny way to express job burnout.'}"
      ]
     },
     "execution_count": 69,
     "metadata": {},
     "output_type": "execute_result"
    }
   ],
   "source": [
    "workflow.invoke(None, {\"configurable\": {\"thread_id\": \"1\", \"checkpoint_id\": \"1f084995-c3e1-6632-8000-4e5b798fe86d\"}})"
   ]
  },
  {
   "cell_type": "code",
   "execution_count": 70,
   "id": "1316e086",
   "metadata": {},
   "outputs": [
    {
     "data": {
      "text/plain": [
       "[StateSnapshot(values={'topic': 'pizza', 'joke': 'Why did the pizza maker quit his job?\\n\\nBecause he was tired of getting dough-minated!', 'explanation': 'The joke plays on the word \"dominated\" by replacing it with \"dough-minated.\" Here\\'s the breakdown:\\n\\n* **Dominated:** This word means being controlled or ruled by someone or something else. A job can be \"dominating\" if it\\'s stressful, demanding, and leaves you feeling controlled.\\n\\n* **Dough:** This is the main ingredient in pizza crust.\\n\\n* **Dough-minated:** This is a pun combining \"dough\" and \"dominated.\" The pizza maker is literally dealing with dough all day.  The joke implies that he\\'s tired of being controlled or overwhelmed by the constant need to work with dough, or perhaps by the demands of making pizza.\\n\\nThe humor comes from the unexpected substitution of \"dominated\" with a word related to the context of the joke (pizza making), creating a silly and relatable reason for quitting a job. It\\'s a lighthearted and punny way to express job burnout.'}, next=(), config={'configurable': {'thread_id': '1', 'checkpoint_ns': '', 'checkpoint_id': '1f08499a-5ee6-68db-8002-1223d0590785'}}, metadata={'source': 'loop', 'step': 2, 'parents': {}}, created_at='2025-08-29T05:33:09.721314+00:00', parent_config={'configurable': {'thread_id': '1', 'checkpoint_ns': '', 'checkpoint_id': '1f08499a-4a82-609f-8001-58a54c6f7156'}}, tasks=(), interrupts=()),\n",
       " StateSnapshot(values={'topic': 'pizza', 'joke': 'Why did the pizza maker quit his job?\\n\\nBecause he was tired of getting dough-minated!'}, next=('generate_explanation',), config={'configurable': {'thread_id': '1', 'checkpoint_ns': '', 'checkpoint_id': '1f08499a-4a82-609f-8001-58a54c6f7156'}}, metadata={'source': 'loop', 'step': 1, 'parents': {}}, created_at='2025-08-29T05:33:07.582991+00:00', parent_config={'configurable': {'thread_id': '1', 'checkpoint_ns': '', 'checkpoint_id': '1f084995-c3e1-6632-8000-4e5b798fe86d'}}, tasks=(PregelTask(id='bf42caf8-38ad-f216-8daf-79431d44bfe3', name='generate_explanation', path=('__pregel_pull', 'generate_explanation'), error=None, interrupts=(), state=None, result={'explanation': 'The joke plays on the word \"dominated\" by replacing it with \"dough-minated.\" Here\\'s the breakdown:\\n\\n* **Dominated:** This word means being controlled or ruled by someone or something else. A job can be \"dominating\" if it\\'s stressful, demanding, and leaves you feeling controlled.\\n\\n* **Dough:** This is the main ingredient in pizza crust.\\n\\n* **Dough-minated:** This is a pun combining \"dough\" and \"dominated.\" The pizza maker is literally dealing with dough all day.  The joke implies that he\\'s tired of being controlled or overwhelmed by the constant need to work with dough, or perhaps by the demands of making pizza.\\n\\nThe humor comes from the unexpected substitution of \"dominated\" with a word related to the context of the joke (pizza making), creating a silly and relatable reason for quitting a job. It\\'s a lighthearted and punny way to express job burnout.'}),), interrupts=()),\n",
       " StateSnapshot(values={'topic': 'pizza', 'joke': 'Why did the pizza maker quit his job?\\n\\nBecause he was tired of getting dough!', 'explanation': 'The joke relies on a **pun**, which is a play on words that uses a word with two different meanings.\\n\\nHere\\'s the breakdown:\\n\\n*   **Dough** has two meanings:\\n    *   The raw mixture of flour, water, and other ingredients used to make bread, pizza crust, etc. (the literal meaning in the context of a pizza maker)\\n    *   Slang for **money** (the intended meaning to make the joke funny)\\n\\nThe joke suggests the pizza maker quit because he was tired of handling the pizza dough (the literal meaning). However, the humorous interpretation is that he was tired of receiving money (the slang meaning), implying he had enough money and didn\\'t need the job anymore.\\n\\nThe humor comes from the unexpected twist in meaning when you realize \"dough\" is being used as a slang term for money.'}, next=(), config={'configurable': {'thread_id': '1', 'checkpoint_ns': '', 'checkpoint_id': '1f084995-efd9-6280-8002-8c83fa520d32'}}, metadata={'source': 'loop', 'step': 2, 'parents': {}}, created_at='2025-08-29T05:31:10.702451+00:00', parent_config={'configurable': {'thread_id': '1', 'checkpoint_ns': '', 'checkpoint_id': '1f084995-d9d3-6e53-8001-8fb1174c1508'}}, tasks=(), interrupts=()),\n",
       " StateSnapshot(values={'topic': 'pizza', 'joke': 'Why did the pizza maker quit his job?\\n\\nBecause he was tired of getting dough!'}, next=('generate_explanation',), config={'configurable': {'thread_id': '1', 'checkpoint_ns': '', 'checkpoint_id': '1f084995-d9d3-6e53-8001-8fb1174c1508'}}, metadata={'source': 'loop', 'step': 1, 'parents': {}}, created_at='2025-08-29T05:31:08.393429+00:00', parent_config={'configurable': {'thread_id': '1', 'checkpoint_ns': '', 'checkpoint_id': '1f084995-c3e1-6632-8000-4e5b798fe86d'}}, tasks=(PregelTask(id='da943ea3-33ae-f85d-5085-90bf8892946a', name='generate_explanation', path=('__pregel_pull', 'generate_explanation'), error=None, interrupts=(), state=None, result={'explanation': 'The joke relies on a **pun**, which is a play on words that uses a word with two different meanings.\\n\\nHere\\'s the breakdown:\\n\\n*   **Dough** has two meanings:\\n    *   The raw mixture of flour, water, and other ingredients used to make bread, pizza crust, etc. (the literal meaning in the context of a pizza maker)\\n    *   Slang for **money** (the intended meaning to make the joke funny)\\n\\nThe joke suggests the pizza maker quit because he was tired of handling the pizza dough (the literal meaning). However, the humorous interpretation is that he was tired of receiving money (the slang meaning), implying he had enough money and didn\\'t need the job anymore.\\n\\nThe humor comes from the unexpected twist in meaning when you realize \"dough\" is being used as a slang term for money.'}),), interrupts=()),\n",
       " StateSnapshot(values={'topic': 'pizza'}, next=('generate_joke',), config={'configurable': {'thread_id': '1', 'checkpoint_ns': '', 'checkpoint_id': '1f084995-c3e1-6632-8000-4e5b798fe86d'}}, metadata={'source': 'loop', 'step': 0, 'parents': {}}, created_at='2025-08-29T05:31:06.092088+00:00', parent_config={'configurable': {'thread_id': '1', 'checkpoint_ns': '', 'checkpoint_id': '1f084995-c3de-6f1a-bfff-9f7798c020bd'}}, tasks=(PregelTask(id='6071cf41-df9b-46d7-7c19-5a6b8150d05f', name='generate_joke', path=('__pregel_pull', 'generate_joke'), error=None, interrupts=(), state=None, result={'joke': 'Why did the pizza maker quit his job?\\n\\nBecause he was tired of getting dough!'}),), interrupts=()),\n",
       " StateSnapshot(values={}, next=('__start__',), config={'configurable': {'thread_id': '1', 'checkpoint_ns': '', 'checkpoint_id': '1f084995-c3de-6f1a-bfff-9f7798c020bd'}}, metadata={'source': 'input', 'step': -1, 'parents': {}}, created_at='2025-08-29T05:31:06.091087+00:00', parent_config=None, tasks=(PregelTask(id='8f15f514-9683-d6d7-647c-7ff5f9f55de5', name='__start__', path=('__pregel_pull', '__start__'), error=None, interrupts=(), state=None, result={'topic': 'pizza'}),), interrupts=())]"
      ]
     },
     "execution_count": 70,
     "metadata": {},
     "output_type": "execute_result"
    }
   ],
   "source": [
    "list(workflow.get_state_history(config1))"
   ]
  },
  {
   "cell_type": "code",
   "execution_count": 71,
   "id": "c5568b06",
   "metadata": {},
   "outputs": [
    {
     "data": {
      "text/plain": [
       "{'configurable': {'thread_id': '1',\n",
       "  'checkpoint_ns': '',\n",
       "  'checkpoint_id': '1f08499c-5a2f-63b4-8001-71a9a3ade13e'}}"
      ]
     },
     "execution_count": 71,
     "metadata": {},
     "output_type": "execute_result"
    }
   ],
   "source": [
    "workflow.update_state({\"configurable\": {\"thread_id\": \"1\", \"checkpoint_id\": \"1f084995-c3e1-6632-8000-4e5b798fe86d\", \"checkpoint_ns\": \"\"}}, {'topic':'samosa'})"
   ]
  },
  {
   "cell_type": "code",
   "execution_count": 72,
   "id": "47edd38a",
   "metadata": {},
   "outputs": [
    {
     "data": {
      "text/plain": [
       "[StateSnapshot(values={'topic': 'samosa'}, next=('generate_joke',), config={'configurable': {'thread_id': '1', 'checkpoint_ns': '', 'checkpoint_id': '1f08499c-5a2f-63b4-8001-71a9a3ade13e'}}, metadata={'source': 'update', 'step': 1, 'parents': {}}, created_at='2025-08-29T05:34:02.913886+00:00', parent_config={'configurable': {'thread_id': '1', 'checkpoint_ns': '', 'checkpoint_id': '1f084995-c3e1-6632-8000-4e5b798fe86d'}}, tasks=(PregelTask(id='98067c37-2e3f-f00b-2c44-0f5128aece1d', name='generate_joke', path=('__pregel_pull', 'generate_joke'), error=None, interrupts=(), state=None, result=None),), interrupts=()),\n",
       " StateSnapshot(values={'topic': 'pizza', 'joke': 'Why did the pizza maker quit his job?\\n\\nBecause he was tired of getting dough-minated!', 'explanation': 'The joke plays on the word \"dominated\" by replacing it with \"dough-minated.\" Here\\'s the breakdown:\\n\\n* **Dominated:** This word means being controlled or ruled by someone or something else. A job can be \"dominating\" if it\\'s stressful, demanding, and leaves you feeling controlled.\\n\\n* **Dough:** This is the main ingredient in pizza crust.\\n\\n* **Dough-minated:** This is a pun combining \"dough\" and \"dominated.\" The pizza maker is literally dealing with dough all day.  The joke implies that he\\'s tired of being controlled or overwhelmed by the constant need to work with dough, or perhaps by the demands of making pizza.\\n\\nThe humor comes from the unexpected substitution of \"dominated\" with a word related to the context of the joke (pizza making), creating a silly and relatable reason for quitting a job. It\\'s a lighthearted and punny way to express job burnout.'}, next=(), config={'configurable': {'thread_id': '1', 'checkpoint_ns': '', 'checkpoint_id': '1f08499a-5ee6-68db-8002-1223d0590785'}}, metadata={'source': 'loop', 'step': 2, 'parents': {}}, created_at='2025-08-29T05:33:09.721314+00:00', parent_config={'configurable': {'thread_id': '1', 'checkpoint_ns': '', 'checkpoint_id': '1f08499a-4a82-609f-8001-58a54c6f7156'}}, tasks=(), interrupts=()),\n",
       " StateSnapshot(values={'topic': 'pizza', 'joke': 'Why did the pizza maker quit his job?\\n\\nBecause he was tired of getting dough-minated!'}, next=('generate_explanation',), config={'configurable': {'thread_id': '1', 'checkpoint_ns': '', 'checkpoint_id': '1f08499a-4a82-609f-8001-58a54c6f7156'}}, metadata={'source': 'loop', 'step': 1, 'parents': {}}, created_at='2025-08-29T05:33:07.582991+00:00', parent_config={'configurable': {'thread_id': '1', 'checkpoint_ns': '', 'checkpoint_id': '1f084995-c3e1-6632-8000-4e5b798fe86d'}}, tasks=(PregelTask(id='bf42caf8-38ad-f216-8daf-79431d44bfe3', name='generate_explanation', path=('__pregel_pull', 'generate_explanation'), error=None, interrupts=(), state=None, result={'explanation': 'The joke plays on the word \"dominated\" by replacing it with \"dough-minated.\" Here\\'s the breakdown:\\n\\n* **Dominated:** This word means being controlled or ruled by someone or something else. A job can be \"dominating\" if it\\'s stressful, demanding, and leaves you feeling controlled.\\n\\n* **Dough:** This is the main ingredient in pizza crust.\\n\\n* **Dough-minated:** This is a pun combining \"dough\" and \"dominated.\" The pizza maker is literally dealing with dough all day.  The joke implies that he\\'s tired of being controlled or overwhelmed by the constant need to work with dough, or perhaps by the demands of making pizza.\\n\\nThe humor comes from the unexpected substitution of \"dominated\" with a word related to the context of the joke (pizza making), creating a silly and relatable reason for quitting a job. It\\'s a lighthearted and punny way to express job burnout.'}),), interrupts=()),\n",
       " StateSnapshot(values={'topic': 'pizza', 'joke': 'Why did the pizza maker quit his job?\\n\\nBecause he was tired of getting dough!', 'explanation': 'The joke relies on a **pun**, which is a play on words that uses a word with two different meanings.\\n\\nHere\\'s the breakdown:\\n\\n*   **Dough** has two meanings:\\n    *   The raw mixture of flour, water, and other ingredients used to make bread, pizza crust, etc. (the literal meaning in the context of a pizza maker)\\n    *   Slang for **money** (the intended meaning to make the joke funny)\\n\\nThe joke suggests the pizza maker quit because he was tired of handling the pizza dough (the literal meaning). However, the humorous interpretation is that he was tired of receiving money (the slang meaning), implying he had enough money and didn\\'t need the job anymore.\\n\\nThe humor comes from the unexpected twist in meaning when you realize \"dough\" is being used as a slang term for money.'}, next=(), config={'configurable': {'thread_id': '1', 'checkpoint_ns': '', 'checkpoint_id': '1f084995-efd9-6280-8002-8c83fa520d32'}}, metadata={'source': 'loop', 'step': 2, 'parents': {}}, created_at='2025-08-29T05:31:10.702451+00:00', parent_config={'configurable': {'thread_id': '1', 'checkpoint_ns': '', 'checkpoint_id': '1f084995-d9d3-6e53-8001-8fb1174c1508'}}, tasks=(), interrupts=()),\n",
       " StateSnapshot(values={'topic': 'pizza', 'joke': 'Why did the pizza maker quit his job?\\n\\nBecause he was tired of getting dough!'}, next=('generate_explanation',), config={'configurable': {'thread_id': '1', 'checkpoint_ns': '', 'checkpoint_id': '1f084995-d9d3-6e53-8001-8fb1174c1508'}}, metadata={'source': 'loop', 'step': 1, 'parents': {}}, created_at='2025-08-29T05:31:08.393429+00:00', parent_config={'configurable': {'thread_id': '1', 'checkpoint_ns': '', 'checkpoint_id': '1f084995-c3e1-6632-8000-4e5b798fe86d'}}, tasks=(PregelTask(id='da943ea3-33ae-f85d-5085-90bf8892946a', name='generate_explanation', path=('__pregel_pull', 'generate_explanation'), error=None, interrupts=(), state=None, result={'explanation': 'The joke relies on a **pun**, which is a play on words that uses a word with two different meanings.\\n\\nHere\\'s the breakdown:\\n\\n*   **Dough** has two meanings:\\n    *   The raw mixture of flour, water, and other ingredients used to make bread, pizza crust, etc. (the literal meaning in the context of a pizza maker)\\n    *   Slang for **money** (the intended meaning to make the joke funny)\\n\\nThe joke suggests the pizza maker quit because he was tired of handling the pizza dough (the literal meaning). However, the humorous interpretation is that he was tired of receiving money (the slang meaning), implying he had enough money and didn\\'t need the job anymore.\\n\\nThe humor comes from the unexpected twist in meaning when you realize \"dough\" is being used as a slang term for money.'}),), interrupts=()),\n",
       " StateSnapshot(values={'topic': 'pizza'}, next=('generate_joke',), config={'configurable': {'thread_id': '1', 'checkpoint_ns': '', 'checkpoint_id': '1f084995-c3e1-6632-8000-4e5b798fe86d'}}, metadata={'source': 'loop', 'step': 0, 'parents': {}}, created_at='2025-08-29T05:31:06.092088+00:00', parent_config={'configurable': {'thread_id': '1', 'checkpoint_ns': '', 'checkpoint_id': '1f084995-c3de-6f1a-bfff-9f7798c020bd'}}, tasks=(PregelTask(id='6071cf41-df9b-46d7-7c19-5a6b8150d05f', name='generate_joke', path=('__pregel_pull', 'generate_joke'), error=None, interrupts=(), state=None, result={'joke': 'Why did the pizza maker quit his job?\\n\\nBecause he was tired of getting dough!'}),), interrupts=()),\n",
       " StateSnapshot(values={}, next=('__start__',), config={'configurable': {'thread_id': '1', 'checkpoint_ns': '', 'checkpoint_id': '1f084995-c3de-6f1a-bfff-9f7798c020bd'}}, metadata={'source': 'input', 'step': -1, 'parents': {}}, created_at='2025-08-29T05:31:06.091087+00:00', parent_config=None, tasks=(PregelTask(id='8f15f514-9683-d6d7-647c-7ff5f9f55de5', name='__start__', path=('__pregel_pull', '__start__'), error=None, interrupts=(), state=None, result={'topic': 'pizza'}),), interrupts=())]"
      ]
     },
     "execution_count": 72,
     "metadata": {},
     "output_type": "execute_result"
    }
   ],
   "source": [
    "list(workflow.get_state_history(config1))"
   ]
  },
  {
   "cell_type": "code",
   "execution_count": 73,
   "id": "5b69c6f2",
   "metadata": {},
   "outputs": [
    {
     "data": {
      "text/plain": [
       "{'topic': 'pasta',\n",
       " 'joke': 'Why did the spaghetti blush?\\n\\nBecause it saw the meat sauce!',\n",
       " 'explanation': 'The joke relies on a double entendre, playing on the word \"sauce\" and the idea of blushing. Here\\'s the breakdown:\\n\\n* **Literal Meaning:** Spaghetti is a type of pasta, and meat sauce is a common topping for it.  The joke presents a scenario where the spaghetti \"blushes\" when it sees the meat sauce.\\n\\n* **Figurative/Sexual Meaning:**  \"Sauce\" can also refer to something that adds spice or flavor to life, often with a sexual connotation.  \"Blushing\" is a common reaction to embarrassment or arousal. The joke implies that the spaghetti is blushing because the meat sauce is seen as sexually suggestive or exciting.\\n\\n**In essence, the joke is funny because it personifies the spaghetti and uses the double meaning of \"sauce\" to create a slightly suggestive and humorous scenario. The unexpected blush adds to the comedic effect.**'}"
      ]
     },
     "execution_count": 73,
     "metadata": {},
     "output_type": "execute_result"
    }
   ],
   "source": [
    "config2 = {\"configurable\": {\"thread_id\": \"2\"}}\n",
    "workflow.invoke({'topic':'pasta'}, config=config2)"
   ]
  },
  {
   "cell_type": "code",
   "execution_count": 74,
   "id": "7b8adf46",
   "metadata": {},
   "outputs": [
    {
     "data": {
      "text/plain": [
       "[StateSnapshot(values={'topic': 'pasta', 'joke': 'Why did the spaghetti blush?\\n\\nBecause it saw the meat sauce!', 'explanation': 'The joke relies on a double entendre, playing on the word \"sauce\" and the idea of blushing. Here\\'s the breakdown:\\n\\n* **Literal Meaning:** Spaghetti is a type of pasta, and meat sauce is a common topping for it.  The joke presents a scenario where the spaghetti \"blushes\" when it sees the meat sauce.\\n\\n* **Figurative/Sexual Meaning:**  \"Sauce\" can also refer to something that adds spice or flavor to life, often with a sexual connotation.  \"Blushing\" is a common reaction to embarrassment or arousal. The joke implies that the spaghetti is blushing because the meat sauce is seen as sexually suggestive or exciting.\\n\\n**In essence, the joke is funny because it personifies the spaghetti and uses the double meaning of \"sauce\" to create a slightly suggestive and humorous scenario. The unexpected blush adds to the comedic effect.**'}, next=(), config={'configurable': {'thread_id': '2', 'checkpoint_ns': '', 'checkpoint_id': '1f08499d-bfa6-6584-8002-89be25be9f88'}}, metadata={'source': 'loop', 'step': 2, 'parents': {}}, created_at='2025-08-29T05:34:40.396838+00:00', parent_config={'configurable': {'thread_id': '2', 'checkpoint_ns': '', 'checkpoint_id': '1f08499d-ab62-69ba-8001-7f70b0cf775e'}}, tasks=(), interrupts=()),\n",
       " StateSnapshot(values={'topic': 'pasta', 'joke': 'Why did the spaghetti blush?\\n\\nBecause it saw the meat sauce!'}, next=('generate_explanation',), config={'configurable': {'thread_id': '2', 'checkpoint_ns': '', 'checkpoint_id': '1f08499d-ab62-69ba-8001-7f70b0cf775e'}}, metadata={'source': 'loop', 'step': 1, 'parents': {}}, created_at='2025-08-29T05:34:38.271941+00:00', parent_config={'configurable': {'thread_id': '2', 'checkpoint_ns': '', 'checkpoint_id': '1f08499d-a3bb-67d0-8000-6bbb660ca893'}}, tasks=(PregelTask(id='c48f93bb-eba9-b570-f32c-392462dcadcd', name='generate_explanation', path=('__pregel_pull', 'generate_explanation'), error=None, interrupts=(), state=None, result={'explanation': 'The joke relies on a double entendre, playing on the word \"sauce\" and the idea of blushing. Here\\'s the breakdown:\\n\\n* **Literal Meaning:** Spaghetti is a type of pasta, and meat sauce is a common topping for it.  The joke presents a scenario where the spaghetti \"blushes\" when it sees the meat sauce.\\n\\n* **Figurative/Sexual Meaning:**  \"Sauce\" can also refer to something that adds spice or flavor to life, often with a sexual connotation.  \"Blushing\" is a common reaction to embarrassment or arousal. The joke implies that the spaghetti is blushing because the meat sauce is seen as sexually suggestive or exciting.\\n\\n**In essence, the joke is funny because it personifies the spaghetti and uses the double meaning of \"sauce\" to create a slightly suggestive and humorous scenario. The unexpected blush adds to the comedic effect.**'}),), interrupts=()),\n",
       " StateSnapshot(values={'topic': 'pasta'}, next=('generate_joke',), config={'configurable': {'thread_id': '2', 'checkpoint_ns': '', 'checkpoint_id': '1f08499d-a3bb-67d0-8000-6bbb660ca893'}}, metadata={'source': 'loop', 'step': 0, 'parents': {}}, created_at='2025-08-29T05:34:37.469486+00:00', parent_config={'configurable': {'thread_id': '2', 'checkpoint_ns': '', 'checkpoint_id': '1f08499d-a3b6-6992-bfff-f98358795f49'}}, tasks=(PregelTask(id='961f5f69-5576-beaf-8d67-25c413f0c16e', name='generate_joke', path=('__pregel_pull', 'generate_joke'), error=None, interrupts=(), state=None, result={'joke': 'Why did the spaghetti blush?\\n\\nBecause it saw the meat sauce!'}),), interrupts=()),\n",
       " StateSnapshot(values={}, next=('__start__',), config={'configurable': {'thread_id': '2', 'checkpoint_ns': '', 'checkpoint_id': '1f08499d-a3b6-6992-bfff-f98358795f49'}}, metadata={'source': 'input', 'step': -1, 'parents': {}}, created_at='2025-08-29T05:34:37.467483+00:00', parent_config=None, tasks=(PregelTask(id='1831de9c-9ed5-552b-c233-ebd82d0d49f7', name='__start__', path=('__pregel_pull', '__start__'), error=None, interrupts=(), state=None, result={'topic': 'pasta'}),), interrupts=())]"
      ]
     },
     "execution_count": 74,
     "metadata": {},
     "output_type": "execute_result"
    }
   ],
   "source": [
    "list(workflow.get_state_history(config2))"
   ]
  },
  {
   "cell_type": "code",
   "execution_count": 39,
   "id": "3a7f27ee",
   "metadata": {},
   "outputs": [],
   "source": [
    "#FaultTolerence"
   ]
  },
  {
   "cell_type": "code",
   "execution_count": 40,
   "id": "a6e6c1bc",
   "metadata": {},
   "outputs": [],
   "source": [
    "from langgraph.graph import StateGraph, END\n",
    "from langgraph.checkpoint.memory import InMemorySaver\n",
    "from typing import TypedDict\n",
    "import time"
   ]
  },
  {
   "cell_type": "code",
   "execution_count": 41,
   "id": "17a5f4e8",
   "metadata": {},
   "outputs": [],
   "source": [
    "class CrashState(TypedDict):\n",
    "    input:str\n",
    "    step1:str\n",
    "    step2:str\n"
   ]
  },
  {
   "cell_type": "code",
   "execution_count": 42,
   "id": "fd040568",
   "metadata": {},
   "outputs": [],
   "source": [
    "def step_1(state: CrashState) -> CrashState:\n",
    "    print(\"✅ Step 1 executed\")\n",
    "    return {\"step1\": \"done\", \"input\": state[\"input\"]}\n",
    "\n",
    "def step_2(state: CrashState) -> CrashState:\n",
    "    print(\"⏳ Step 2 hanging... now manually interrupt from the notebook toolbar (STOP button)\")\n",
    "    \n",
    "    return {\"step2\": \"done\"}\n",
    "\n",
    "def step_3(state: CrashState) -> CrashState:\n",
    "    print(\"✅ Step 3 executed\")\n",
    "    return {\"done\": True}"
   ]
  },
  {
   "cell_type": "code",
   "execution_count": 43,
   "id": "90119b15",
   "metadata": {},
   "outputs": [],
   "source": [
    "graph = StateGraph(CrashState)\n",
    "\n",
    "graph.add_node('step1',step_1)\n",
    "graph.add_node('step2',step_2)\n",
    "graph.add_node('step3',step_3)\n",
    "\n",
    "graph.add_edge(START,'step1')\n",
    "graph.add_edge('step1','step2')\n",
    "graph.add_edge('step2','step3')\n",
    "graph.add_edge('step3',END)\n",
    "\n",
    "checkpointer = InMemorySaver()\n",
    "workflow = graph.compile(checkpointer=checkpointer)"
   ]
  },
  {
   "cell_type": "code",
   "execution_count": 44,
   "id": "80be6d75",
   "metadata": {},
   "outputs": [
    {
     "name": "stdout",
     "output_type": "stream",
     "text": [
      "▶️ Running graph: Please manually interrupt during Step 2...\n"
     ]
    },
    {
     "ename": "AttributeError",
     "evalue": "'StateGraph' object has no attribute 'invoke'",
     "output_type": "error",
     "traceback": [
      "\u001b[31m---------------------------------------------------------------------------\u001b[39m",
      "\u001b[31mAttributeError\u001b[39m                            Traceback (most recent call last)",
      "\u001b[36mCell\u001b[39m\u001b[36m \u001b[39m\u001b[32mIn[44]\u001b[39m\u001b[32m, line 3\u001b[39m\n\u001b[32m      1\u001b[39m \u001b[38;5;28;01mtry\u001b[39;00m:\n\u001b[32m      2\u001b[39m     \u001b[38;5;28mprint\u001b[39m(\u001b[33m\"\u001b[39m\u001b[33m▶️ Running graph: Please manually interrupt during Step 2...\u001b[39m\u001b[33m\"\u001b[39m)\n\u001b[32m----> \u001b[39m\u001b[32m3\u001b[39m     \u001b[43mgraph\u001b[49m\u001b[43m.\u001b[49m\u001b[43minvoke\u001b[49m({\u001b[33m\"\u001b[39m\u001b[33minput\u001b[39m\u001b[33m\"\u001b[39m: \u001b[33m\"\u001b[39m\u001b[33mstart\u001b[39m\u001b[33m\"\u001b[39m}, config={\u001b[33m\"\u001b[39m\u001b[33mconfigurable\u001b[39m\u001b[33m\"\u001b[39m: {\u001b[33m\"\u001b[39m\u001b[33mthread_id\u001b[39m\u001b[33m\"\u001b[39m: \u001b[33m'\u001b[39m\u001b[33mthread-1\u001b[39m\u001b[33m'\u001b[39m}})\n\u001b[32m      4\u001b[39m \u001b[38;5;28;01mexcept\u001b[39;00m \u001b[38;5;167;01mKeyboardInterrupt\u001b[39;00m:\n\u001b[32m      5\u001b[39m     \u001b[38;5;28mprint\u001b[39m(\u001b[33m\"\u001b[39m\u001b[33m❌ Kernel manually interrupted (crash simulated).\u001b[39m\u001b[33m\"\u001b[39m)\n",
      "\u001b[31mAttributeError\u001b[39m: 'StateGraph' object has no attribute 'invoke'"
     ]
    }
   ],
   "source": [
    "try:\n",
    "    print(\"▶️ Running graph: Please manually interrupt during Step 2...\")\n",
    "    graph.invoke({\"input\": \"start\"}, config={\"configurable\": {\"thread_id\": 'thread-1'}})\n",
    "except KeyboardInterrupt:\n",
    "    print(\"❌ Kernel manually interrupted (crash simulated).\")"
   ]
  },
  {
   "cell_type": "code",
   "execution_count": null,
   "id": "6477de9b",
   "metadata": {},
   "outputs": [
    {
     "name": "stdout",
     "output_type": "stream",
     "text": [
      "✅ Step 1 executed\n",
      "{'step1': {'step1': 'done', 'input': 'start'}}\n",
      "⏳ Step 2 hanging... now manually interrupt from the notebook toolbar (STOP button)\n",
      "{'step2': {'step2': 'done'}}\n",
      "{'__interrupt__': ()}\n"
     ]
    }
   ],
   "source": [
    "\n",
    "# First run, stop *after step2*\n",
    "events = workflow.stream(\n",
    "    {\"input\": \"start\"},\n",
    "    config={\n",
    "        \"configurable\": {\"thread_id\": \"thread-1\"}\n",
    "    },\n",
    "    interrupt_after=[\"step2\"],  # 🚨 interrupt point\n",
    ")\n",
    "\n",
    "for event in events:\n",
    "    print(event)   # You’ll see events until step2 finishes\n"
   ]
  },
  {
   "cell_type": "code",
   "execution_count": null,
   "id": "246c7e1e",
   "metadata": {},
   "outputs": [
    {
     "data": {
      "text/plain": [
       "[StateSnapshot(values={'input': 'start', 'step1': 'done', 'step2': 'done'}, next=('step3',), config={'configurable': {'thread_id': 'thread-1', 'checkpoint_ns': '', 'checkpoint_id': '1f08493b-332c-6913-8002-73ac45891178'}}, metadata={'source': 'loop', 'step': 2, 'parents': {}}, created_at='2025-08-29T04:50:34.999425+00:00', parent_config={'configurable': {'thread_id': 'thread-1', 'checkpoint_ns': '', 'checkpoint_id': '1f08493b-332a-6202-8001-a90656c1680d'}}, tasks=(PregelTask(id='0b9fbf9e-f64b-7f26-1353-316f739f1a01', name='step3', path=('__pregel_pull', 'step3'), error=None, interrupts=(), state=None, result=None),), interrupts=()),\n",
       " StateSnapshot(values={'input': 'start', 'step1': 'done'}, next=('step2',), config={'configurable': {'thread_id': 'thread-1', 'checkpoint_ns': '', 'checkpoint_id': '1f08493b-332a-6202-8001-a90656c1680d'}}, metadata={'source': 'loop', 'step': 1, 'parents': {}}, created_at='2025-08-29T04:50:34.998425+00:00', parent_config={'configurable': {'thread_id': 'thread-1', 'checkpoint_ns': '', 'checkpoint_id': '1f08493b-3325-63df-8000-eed4b248517b'}}, tasks=(PregelTask(id='e1f3efb4-489d-b90d-f877-e6368111008b', name='step2', path=('__pregel_pull', 'step2'), error=None, interrupts=(), state=None, result={'step2': 'done'}),), interrupts=()),\n",
       " StateSnapshot(values={'input': 'start'}, next=('step1',), config={'configurable': {'thread_id': 'thread-1', 'checkpoint_ns': '', 'checkpoint_id': '1f08493b-3325-63df-8000-eed4b248517b'}}, metadata={'source': 'loop', 'step': 0, 'parents': {}}, created_at='2025-08-29T04:50:34.996425+00:00', parent_config={'configurable': {'thread_id': 'thread-1', 'checkpoint_ns': '', 'checkpoint_id': '1f08493b-3320-65a0-bfff-deb8aaae4b37'}}, tasks=(PregelTask(id='c9db080a-cb3d-8dc0-bfb8-76b05ad87b15', name='step1', path=('__pregel_pull', 'step1'), error=None, interrupts=(), state=None, result={'step1': 'done', 'input': 'start'}),), interrupts=()),\n",
       " StateSnapshot(values={}, next=('__start__',), config={'configurable': {'thread_id': 'thread-1', 'checkpoint_ns': '', 'checkpoint_id': '1f08493b-3320-65a0-bfff-deb8aaae4b37'}}, metadata={'source': 'input', 'step': -1, 'parents': {}}, created_at='2025-08-29T04:50:34.994422+00:00', parent_config=None, tasks=(PregelTask(id='c9f3465a-2b1f-a461-a90e-a8f32333a853', name='__start__', path=('__pregel_pull', '__start__'), error=None, interrupts=(), state=None, result={'input': 'start'}),), interrupts=())]"
      ]
     },
     "execution_count": 21,
     "metadata": {},
     "output_type": "execute_result"
    }
   ],
   "source": [
    "list(workflow.get_state_history(config={\n",
    "        \"configurable\": {\"thread_id\": \"thread-1\"}\n",
    "    }))"
   ]
  },
  {
   "cell_type": "code",
   "execution_count": null,
   "id": "a0625afc",
   "metadata": {},
   "outputs": [
    {
     "name": "stdout",
     "output_type": "stream",
     "text": [
      "✅ Step 3 executed\n",
      "{'step3': None}\n"
     ]
    }
   ],
   "source": [
    "events = workflow.stream(\n",
    "    None,   # no new input needed\n",
    "    config={\n",
    "        \"configurable\": {\"thread_id\": \"thread-1\"}\n",
    "    }\n",
    ")\n",
    "\n",
    "for event in events:\n",
    "    print(event)   # Now runs step3 → END\n"
   ]
  },
  {
   "cell_type": "code",
   "execution_count": null,
   "id": "59bb9aa6",
   "metadata": {},
   "outputs": [
    {
     "data": {
      "text/plain": [
       "[StateSnapshot(values={'input': 'start', 'step1': 'done', 'step2': 'done'}, next=(), config={'configurable': {'thread_id': 'thread-1', 'checkpoint_ns': '', 'checkpoint_id': '1f084940-5585-6f54-8003-174053cf1589'}}, metadata={'source': 'loop', 'step': 3, 'parents': {}}, created_at='2025-08-29T04:52:52.818926+00:00', parent_config={'configurable': {'thread_id': 'thread-1', 'checkpoint_ns': '', 'checkpoint_id': '1f08493b-332c-6913-8002-73ac45891178'}}, tasks=(), interrupts=()),\n",
       " StateSnapshot(values={'input': 'start', 'step1': 'done', 'step2': 'done'}, next=('step3',), config={'configurable': {'thread_id': 'thread-1', 'checkpoint_ns': '', 'checkpoint_id': '1f08493b-332c-6913-8002-73ac45891178'}}, metadata={'source': 'loop', 'step': 2, 'parents': {}}, created_at='2025-08-29T04:50:34.999425+00:00', parent_config={'configurable': {'thread_id': 'thread-1', 'checkpoint_ns': '', 'checkpoint_id': '1f08493b-332a-6202-8001-a90656c1680d'}}, tasks=(PregelTask(id='0b9fbf9e-f64b-7f26-1353-316f739f1a01', name='step3', path=('__pregel_pull', 'step3'), error=None, interrupts=(), state=None, result={}),), interrupts=()),\n",
       " StateSnapshot(values={'input': 'start', 'step1': 'done'}, next=('step2',), config={'configurable': {'thread_id': 'thread-1', 'checkpoint_ns': '', 'checkpoint_id': '1f08493b-332a-6202-8001-a90656c1680d'}}, metadata={'source': 'loop', 'step': 1, 'parents': {}}, created_at='2025-08-29T04:50:34.998425+00:00', parent_config={'configurable': {'thread_id': 'thread-1', 'checkpoint_ns': '', 'checkpoint_id': '1f08493b-3325-63df-8000-eed4b248517b'}}, tasks=(PregelTask(id='e1f3efb4-489d-b90d-f877-e6368111008b', name='step2', path=('__pregel_pull', 'step2'), error=None, interrupts=(), state=None, result={'step2': 'done'}),), interrupts=()),\n",
       " StateSnapshot(values={'input': 'start'}, next=('step1',), config={'configurable': {'thread_id': 'thread-1', 'checkpoint_ns': '', 'checkpoint_id': '1f08493b-3325-63df-8000-eed4b248517b'}}, metadata={'source': 'loop', 'step': 0, 'parents': {}}, created_at='2025-08-29T04:50:34.996425+00:00', parent_config={'configurable': {'thread_id': 'thread-1', 'checkpoint_ns': '', 'checkpoint_id': '1f08493b-3320-65a0-bfff-deb8aaae4b37'}}, tasks=(PregelTask(id='c9db080a-cb3d-8dc0-bfb8-76b05ad87b15', name='step1', path=('__pregel_pull', 'step1'), error=None, interrupts=(), state=None, result={'step1': 'done', 'input': 'start'}),), interrupts=()),\n",
       " StateSnapshot(values={}, next=('__start__',), config={'configurable': {'thread_id': 'thread-1', 'checkpoint_ns': '', 'checkpoint_id': '1f08493b-3320-65a0-bfff-deb8aaae4b37'}}, metadata={'source': 'input', 'step': -1, 'parents': {}}, created_at='2025-08-29T04:50:34.994422+00:00', parent_config=None, tasks=(PregelTask(id='c9f3465a-2b1f-a461-a90e-a8f32333a853', name='__start__', path=('__pregel_pull', '__start__'), error=None, interrupts=(), state=None, result={'input': 'start'}),), interrupts=())]"
      ]
     },
     "execution_count": 23,
     "metadata": {},
     "output_type": "execute_result"
    }
   ],
   "source": [
    "list(workflow.get_state_history(config={\n",
    "        \"configurable\": {\"thread_id\": \"thread-1\"}\n",
    "    }))"
   ]
  },
  {
   "cell_type": "code",
   "execution_count": null,
   "id": "00ea9bef",
   "metadata": {},
   "outputs": [],
   "source": []
  }
 ],
 "metadata": {
  "kernelspec": {
   "display_name": "myenv",
   "language": "python",
   "name": "python3"
  },
  "language_info": {
   "codemirror_mode": {
    "name": "ipython",
    "version": 3
   },
   "file_extension": ".py",
   "mimetype": "text/x-python",
   "name": "python",
   "nbconvert_exporter": "python",
   "pygments_lexer": "ipython3",
   "version": "3.12.4"
  }
 },
 "nbformat": 4,
 "nbformat_minor": 5
}
