{
 "cells": [
  {
   "cell_type": "code",
   "execution_count": 6,
   "id": "900252bd",
   "metadata": {},
   "outputs": [],
   "source": [
    "from dotenv import load_dotenv\n",
    "from langchain_google_genai import ChatGoogleGenerativeAI\n",
    "from typing import TypedDict\n",
    "from langgraph.graph import StateGraph,START,END\n",
    "\n",
    "load_dotenv()\n",
    "\n",
    "model = ChatGoogleGenerativeAI(model=\"gemini-2.0-flash\")"
   ]
  },
  {
   "cell_type": "code",
   "execution_count": 4,
   "id": "e198cb86",
   "metadata": {},
   "outputs": [],
   "source": [
    "class LLMState(TypedDict):\n",
    "    question:str\n",
    "    answer:str"
   ]
  },
  {
   "cell_type": "code",
   "execution_count": 5,
   "id": "1d3864cc",
   "metadata": {},
   "outputs": [],
   "source": [
    "def llm_qa(state:LLMState) -> LLMState:\n",
    "\n",
    "    #extract question\n",
    "    ques = state['question']\n",
    "\n",
    "    #form a prompt\n",
    "    prompt = f'Answer the following question{ques}'\n",
    "\n",
    "    #ask to llm\n",
    "    ans = model.invoke(prompt).content\n",
    "\n",
    "    #update the state\n",
    "    state['answer'] = ans\n",
    "    return state\n",
    "\n"
   ]
  },
  {
   "cell_type": "code",
   "execution_count": 8,
   "id": "433d166c",
   "metadata": {},
   "outputs": [],
   "source": [
    "#create our graph\n",
    "graph = StateGraph(LLMState)\n",
    "\n",
    "#add nodes\n",
    "graph.add_node('llm_qa',llm_qa)\n",
    "\n",
    "#add edge\n",
    "graph.add_edge(START,'llm_qa')\n",
    "graph.add_edge('llm_qa',END)\n",
    "\n",
    "workflow = graph.compile()\n"
   ]
  },
  {
   "cell_type": "code",
   "execution_count": 9,
   "id": "ab1798e8",
   "metadata": {},
   "outputs": [
    {
     "name": "stdout",
     "output_type": "stream",
     "text": [
      "{'question': 'How far is moon from the earth?', 'answer': \"The distance between the Earth and the Moon isn't constant, as the Moon's orbit is an ellipse. However, the average distance is **384,400 kilometers (238,900 miles)**.\\n\\nHere's a bit more detail:\\n\\n*   **Perigee (closest point):** Around 363,104 kilometers (225,623 miles)\\n*   **Apogee (farthest point):** Around 405,696 kilometers (252,088 miles)\"}\n"
     ]
    }
   ],
   "source": [
    "#execute\n",
    "initial_state = {'question':\"How far is moon from the earth?\"}\n",
    "final_state = workflow.invoke(initial_state)\n",
    "print(final_state)"
   ]
  },
  {
   "cell_type": "code",
   "execution_count": null,
   "id": "4992caf3",
   "metadata": {},
   "outputs": [],
   "source": []
  }
 ],
 "metadata": {
  "kernelspec": {
   "display_name": "myenv",
   "language": "python",
   "name": "python3"
  },
  "language_info": {
   "codemirror_mode": {
    "name": "ipython",
    "version": 3
   },
   "file_extension": ".py",
   "mimetype": "text/x-python",
   "name": "python",
   "nbconvert_exporter": "python",
   "pygments_lexer": "ipython3",
   "version": "3.12.4"
  }
 },
 "nbformat": 4,
 "nbformat_minor": 5
}
