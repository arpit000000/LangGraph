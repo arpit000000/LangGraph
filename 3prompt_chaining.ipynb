{
 "cells": [
  {
   "cell_type": "code",
   "execution_count": 1,
   "id": "f6de500d",
   "metadata": {},
   "outputs": [],
   "source": [
    "from dotenv import load_dotenv\n",
    "from langchain_google_genai import ChatGoogleGenerativeAI\n",
    "from typing import TypedDict\n",
    "from langgraph.graph import StateGraph,START,END\n",
    "\n",
    "load_dotenv()\n",
    "\n",
    "model = ChatGoogleGenerativeAI(model=\"gemini-2.0-flash\")"
   ]
  },
  {
   "cell_type": "code",
   "execution_count": 2,
   "id": "3ddf7ea3",
   "metadata": {},
   "outputs": [],
   "source": [
    "class BlogState(TypedDict):\n",
    "\n",
    "    title: str\n",
    "    outline: str\n",
    "    content: str"
   ]
  },
  {
   "cell_type": "code",
   "execution_count": 3,
   "id": "ddbe1bfe",
   "metadata": {},
   "outputs": [],
   "source": [
    "\n",
    "def create_outline(state: BlogState) -> BlogState:\n",
    "\n",
    "    # fetch title\n",
    "    title = state['title']\n",
    "\n",
    "    # call llm gen outline\n",
    "    prompt = f'Generate a detailed outline for a blog on the topic - {title}'\n",
    "    outline = model.invoke(prompt).content\n",
    "\n",
    "    # update state\n",
    "    state['outline'] = outline\n",
    "\n",
    "    return state"
   ]
  },
  {
   "cell_type": "code",
   "execution_count": 4,
   "id": "d1e2bf8c",
   "metadata": {},
   "outputs": [],
   "source": [
    "\n",
    "def create_blog(state: BlogState) -> BlogState:\n",
    "\n",
    "    title = state['title']\n",
    "    outline = state['outline']\n",
    "\n",
    "    prompt = f'Write a detailed blog on the title - {title} using the follwing outline \\n {outline}'\n",
    "\n",
    "    content = model.invoke(prompt).content\n",
    "\n",
    "    state['content'] = content\n",
    "\n",
    "    return state"
   ]
  },
  {
   "cell_type": "code",
   "execution_count": 5,
   "id": "c6acf4fd",
   "metadata": {},
   "outputs": [],
   "source": [
    "graph = StateGraph(BlogState)\n",
    "\n",
    "graph.add_node('create_outline',create_outline)\n",
    "graph.add_node('create_blog',create_blog)\n",
    "\n",
    "graph.add_edge(START,'create_outline')\n",
    "graph.add_edge('create_blog','create_outline')\n",
    "graph.add_edge('create_outline',END)\n",
    "\n",
    "workflow = graph.compile()"
   ]
  },
  {
   "cell_type": "code",
   "execution_count": 6,
   "id": "158b399d",
   "metadata": {},
   "outputs": [
    {
     "name": "stdout",
     "output_type": "stream",
     "text": [
      "{'title': 'Rise of AI in India', 'outline': '## Blog Outline: Rise of AI in India\\n\\n**I. Introduction: Setting the Stage**\\n\\n   *  A. Hook: Start with a compelling statistic or anecdote about AI\\'s impact in India. (e.g., Projected economic impact, successful AI startup story, government initiative).\\n   *  B. Brief Definition of AI:  Explain AI in simple terms, avoiding technical jargon. Focus on its capabilities (learning, problem-solving, decision-making).\\n   *  C. Thesis Statement:  Clearly state the blog\\'s main argument, highlighting the significant rise of AI in India and its potential transformative impact across various sectors.  (e.g., \"India is experiencing a significant surge in AI adoption, poised to revolutionize its economy and society through advancements in [mention key sectors].\")\\n   *  D.  Roadmap: Briefly outline the topics that will be covered in the blog.\\n\\n**II.  The Drivers of AI Growth in India: Why Now?**\\n\\n   *  A.  Government Initiatives and Policies:\\n        *  1. National Strategy for Artificial Intelligence (NITI Aayog): Discuss the goals, key pillars, and implementation strategies.\\n        *  2.  AI-related funding and grants: Highlight government investments in AI research and development.\\n        *  3.  Data Protection Bill: Discuss its implications for AI development and deployment.  (Address concerns and opportunities).\\n   *  B.  Booming Tech Industry and Startup Ecosystem:\\n        *  1.  Presence of major tech companies:  Highlight the role of companies like Google, Microsoft, Amazon, etc., in investing in AI research and talent in India.\\n        *  2.  Growth of AI startups: Showcase successful AI startups in India and their contributions. (Provide examples like Niramai, SigTuple, etc.).\\n        *  3.  Availability of Venture Capital:  Discuss the increasing investment in Indian AI startups.\\n   *  C.  Availability of Data:\\n        *  1.  India as a data-rich nation:  Explain how India\\'s large population and increasing internet penetration contribute to vast amounts of data.\\n        *  2.  Data accessibility and infrastructure:  Discuss efforts to improve data accessibility and build robust data infrastructure.\\n   *  D.  Talent Pool and Education:\\n        *  1.  Growing number of AI professionals:  Highlight the increasing number of students and professionals specializing in AI-related fields.\\n        *  2.  AI education and training programs:  Discuss the availability of AI courses in universities and online platforms.\\n        *  3.  Skill gaps and challenges:  Acknowledge the need to bridge the skill gap in specific AI areas.\\n   *  E.  Affordable Technology:\\n        *  1.  Accessibility of cloud computing: Discuss how cloud services are making AI infrastructure more accessible to businesses.\\n        *  2.  Open-source AI tools and frameworks:  Highlight the role of open-source technologies in democratizing AI development.\\n\\n**III.  AI Applications Across Key Sectors in India:  Real-World Impact**\\n\\n   *  A.  Healthcare:\\n        *  1.  AI-powered diagnostics:  Discuss examples of AI applications in disease detection and diagnosis (e.g., cancer screening, retinal imaging).\\n        *  2.  Personalized medicine:  Highlight how AI can tailor treatment plans based on individual patient data.\\n        *  3.  Drug discovery:  Explain how AI is accelerating the drug discovery process.\\n        *  4.  Remote patient monitoring:  Discuss the use of AI-powered wearables and remote monitoring systems.\\n   *  B.  Agriculture:\\n        *  1.  Precision farming:  Highlight how AI can optimize crop yields, manage irrigation, and predict pest infestations.\\n        *  2.  Supply chain optimization:  Discuss how AI can improve efficiency and reduce waste in agricultural supply chains.\\n        *  3.  Crop monitoring with drones and satellites:  Explain how AI analyzes aerial imagery to assess crop health.\\n   *  C.  Finance:\\n        *  1.  Fraud detection:  Discuss how AI is used to identify and prevent fraudulent transactions.\\n        *  2.  Risk management:  Highlight how AI can assess credit risk and improve investment decisions.\\n        *  3.  Customer service:  Explain the use of AI-powered chatbots and virtual assistants in banking and finance.\\n   *  D.  Education:\\n        *  1.  Personalized learning:  Discuss how AI can tailor educational content and provide individualized feedback.\\n        *  2.  Automated grading and assessment:  Highlight the use of AI in automating grading and assessment tasks.\\n        *  3.  AI-powered tutoring systems:  Explain how AI can provide personalized tutoring and support to students.\\n   *  E.  Transportation:\\n        *  1.  Smart traffic management:  Discuss how AI can optimize traffic flow and reduce congestion.\\n        *  2.  Autonomous vehicles:  Highlight the development and testing of autonomous vehicles in India.\\n        *  3.  Predictive maintenance:  Explain how AI can predict equipment failures and optimize maintenance schedules in transportation systems.\\n\\n**IV. Challenges and Opportunities:  Navigating the Future**\\n\\n   *  A.  Ethical Considerations:\\n        *  1.  Bias in AI algorithms:  Discuss the potential for bias in AI algorithms and the need for fairness and transparency.\\n        *  2.  Data privacy and security:  Highlight the importance of protecting data privacy and security in AI applications.\\n        *  3.  Job displacement:  Address concerns about job displacement due to AI automation and the need for workforce retraining.\\n   *  B.  Infrastructure Limitations:\\n        *  1.  Digital divide:  Discuss the need to bridge the digital divide to ensure equitable access to AI technologies.\\n        *  2.  Data infrastructure challenges:  Highlight the need to improve data infrastructure and accessibility.\\n   *  C.  Skill Gap:\\n        *  1.  Addressing the AI skills shortage:  Discuss strategies to address the AI skills shortage through education and training programs.\\n        *  2.  Upskilling and reskilling the workforce:  Highlight the importance of upskilling and reskilling the workforce to adapt to the changing job market.\\n   *  D.  Opportunities for India:\\n        *  1.  Economic growth:  Highlight the potential for AI to drive economic growth and create new jobs.\\n        *  2.  Social impact:  Discuss the potential for AI to address social challenges in areas such as healthcare, education, and agriculture.\\n        *  3.  Global leadership:  Position India as a leader in AI research and development.\\n\\n**V.  Case Studies:  Illustrating Success**\\n\\n   *  A.  Select 2-3 compelling case studies of successful AI implementations in India.\\n   *  B.  For each case study, include:\\n        *  1.  Company/Organization involved.\\n        *  2.  Problem being solved.\\n        *  3.  AI solution implemented.\\n        *  4.  Results achieved (quantifiable impact).\\n        *  5.  Lessons learned.\\n\\n**VI.  Conclusion:  Looking Ahead**\\n\\n   *  A.  Recap of key points:  Summarize the main arguments of the blog.\\n   *  B.  Reiterate the thesis statement:  Reinforce the significance of AI\\'s rise in India.\\n   *  C.  Call to action:  Encourage readers to learn more about AI and its potential impact on India.  (e.g., suggest further reading, encourage participation in AI-related initiatives).\\n   *  D.  Optimistic outlook:  End on a positive note, emphasizing the transformative potential of AI in India.\\n\\n**VII.  Optional Elements:**\\n\\n   *  A.  Infographics: Include visuals to illustrate key data points and trends.\\n   *  B.  Quotes:  Incorporate quotes from industry experts and thought leaders.\\n   *  C.  Interactive Elements:  Consider adding interactive elements such as polls or quizzes.\\n   *  D.  References:  Cite sources to support your claims and provide credibility.\\n\\nThis detailed outline provides a strong foundation for a comprehensive and informative blog post on the rise of AI in India. Remember to adapt the content to your target audience and writing style. Good luck!'}\n"
     ]
    }
   ],
   "source": [
    "intial_state = {'title': 'Rise of AI in India'}\n",
    "\n",
    "final_state = workflow.invoke(intial_state)\n",
    "\n",
    "print(final_state)"
   ]
  },
  {
   "cell_type": "code",
   "execution_count": 7,
   "id": "9c4ef857",
   "metadata": {},
   "outputs": [
    {
     "name": "stdout",
     "output_type": "stream",
     "text": [
      "## Blog Outline: Rise of AI in India\n",
      "\n",
      "**I. Introduction: Setting the Stage**\n",
      "\n",
      "   *  A. Hook: Start with a compelling statistic or anecdote about AI's impact in India. (e.g., Projected economic impact, successful AI startup story, government initiative).\n",
      "   *  B. Brief Definition of AI:  Explain AI in simple terms, avoiding technical jargon. Focus on its capabilities (learning, problem-solving, decision-making).\n",
      "   *  C. Thesis Statement:  Clearly state the blog's main argument, highlighting the significant rise of AI in India and its potential transformative impact across various sectors.  (e.g., \"India is experiencing a significant surge in AI adoption, poised to revolutionize its economy and society through advancements in [mention key sectors].\")\n",
      "   *  D.  Roadmap: Briefly outline the topics that will be covered in the blog.\n",
      "\n",
      "**II.  The Drivers of AI Growth in India: Why Now?**\n",
      "\n",
      "   *  A.  Government Initiatives and Policies:\n",
      "        *  1. National Strategy for Artificial Intelligence (NITI Aayog): Discuss the goals, key pillars, and implementation strategies.\n",
      "        *  2.  AI-related funding and grants: Highlight government investments in AI research and development.\n",
      "        *  3.  Data Protection Bill: Discuss its implications for AI development and deployment.  (Address concerns and opportunities).\n",
      "   *  B.  Booming Tech Industry and Startup Ecosystem:\n",
      "        *  1.  Presence of major tech companies:  Highlight the role of companies like Google, Microsoft, Amazon, etc., in investing in AI research and talent in India.\n",
      "        *  2.  Growth of AI startups: Showcase successful AI startups in India and their contributions. (Provide examples like Niramai, SigTuple, etc.).\n",
      "        *  3.  Availability of Venture Capital:  Discuss the increasing investment in Indian AI startups.\n",
      "   *  C.  Availability of Data:\n",
      "        *  1.  India as a data-rich nation:  Explain how India's large population and increasing internet penetration contribute to vast amounts of data.\n",
      "        *  2.  Data accessibility and infrastructure:  Discuss efforts to improve data accessibility and build robust data infrastructure.\n",
      "   *  D.  Talent Pool and Education:\n",
      "        *  1.  Growing number of AI professionals:  Highlight the increasing number of students and professionals specializing in AI-related fields.\n",
      "        *  2.  AI education and training programs:  Discuss the availability of AI courses in universities and online platforms.\n",
      "        *  3.  Skill gaps and challenges:  Acknowledge the need to bridge the skill gap in specific AI areas.\n",
      "   *  E.  Affordable Technology:\n",
      "        *  1.  Accessibility of cloud computing: Discuss how cloud services are making AI infrastructure more accessible to businesses.\n",
      "        *  2.  Open-source AI tools and frameworks:  Highlight the role of open-source technologies in democratizing AI development.\n",
      "\n",
      "**III.  AI Applications Across Key Sectors in India:  Real-World Impact**\n",
      "\n",
      "   *  A.  Healthcare:\n",
      "        *  1.  AI-powered diagnostics:  Discuss examples of AI applications in disease detection and diagnosis (e.g., cancer screening, retinal imaging).\n",
      "        *  2.  Personalized medicine:  Highlight how AI can tailor treatment plans based on individual patient data.\n",
      "        *  3.  Drug discovery:  Explain how AI is accelerating the drug discovery process.\n",
      "        *  4.  Remote patient monitoring:  Discuss the use of AI-powered wearables and remote monitoring systems.\n",
      "   *  B.  Agriculture:\n",
      "        *  1.  Precision farming:  Highlight how AI can optimize crop yields, manage irrigation, and predict pest infestations.\n",
      "        *  2.  Supply chain optimization:  Discuss how AI can improve efficiency and reduce waste in agricultural supply chains.\n",
      "        *  3.  Crop monitoring with drones and satellites:  Explain how AI analyzes aerial imagery to assess crop health.\n",
      "   *  C.  Finance:\n",
      "        *  1.  Fraud detection:  Discuss how AI is used to identify and prevent fraudulent transactions.\n",
      "        *  2.  Risk management:  Highlight how AI can assess credit risk and improve investment decisions.\n",
      "        *  3.  Customer service:  Explain the use of AI-powered chatbots and virtual assistants in banking and finance.\n",
      "   *  D.  Education:\n",
      "        *  1.  Personalized learning:  Discuss how AI can tailor educational content and provide individualized feedback.\n",
      "        *  2.  Automated grading and assessment:  Highlight the use of AI in automating grading and assessment tasks.\n",
      "        *  3.  AI-powered tutoring systems:  Explain how AI can provide personalized tutoring and support to students.\n",
      "   *  E.  Transportation:\n",
      "        *  1.  Smart traffic management:  Discuss how AI can optimize traffic flow and reduce congestion.\n",
      "        *  2.  Autonomous vehicles:  Highlight the development and testing of autonomous vehicles in India.\n",
      "        *  3.  Predictive maintenance:  Explain how AI can predict equipment failures and optimize maintenance schedules in transportation systems.\n",
      "\n",
      "**IV. Challenges and Opportunities:  Navigating the Future**\n",
      "\n",
      "   *  A.  Ethical Considerations:\n",
      "        *  1.  Bias in AI algorithms:  Discuss the potential for bias in AI algorithms and the need for fairness and transparency.\n",
      "        *  2.  Data privacy and security:  Highlight the importance of protecting data privacy and security in AI applications.\n",
      "        *  3.  Job displacement:  Address concerns about job displacement due to AI automation and the need for workforce retraining.\n",
      "   *  B.  Infrastructure Limitations:\n",
      "        *  1.  Digital divide:  Discuss the need to bridge the digital divide to ensure equitable access to AI technologies.\n",
      "        *  2.  Data infrastructure challenges:  Highlight the need to improve data infrastructure and accessibility.\n",
      "   *  C.  Skill Gap:\n",
      "        *  1.  Addressing the AI skills shortage:  Discuss strategies to address the AI skills shortage through education and training programs.\n",
      "        *  2.  Upskilling and reskilling the workforce:  Highlight the importance of upskilling and reskilling the workforce to adapt to the changing job market.\n",
      "   *  D.  Opportunities for India:\n",
      "        *  1.  Economic growth:  Highlight the potential for AI to drive economic growth and create new jobs.\n",
      "        *  2.  Social impact:  Discuss the potential for AI to address social challenges in areas such as healthcare, education, and agriculture.\n",
      "        *  3.  Global leadership:  Position India as a leader in AI research and development.\n",
      "\n",
      "**V.  Case Studies:  Illustrating Success**\n",
      "\n",
      "   *  A.  Select 2-3 compelling case studies of successful AI implementations in India.\n",
      "   *  B.  For each case study, include:\n",
      "        *  1.  Company/Organization involved.\n",
      "        *  2.  Problem being solved.\n",
      "        *  3.  AI solution implemented.\n",
      "        *  4.  Results achieved (quantifiable impact).\n",
      "        *  5.  Lessons learned.\n",
      "\n",
      "**VI.  Conclusion:  Looking Ahead**\n",
      "\n",
      "   *  A.  Recap of key points:  Summarize the main arguments of the blog.\n",
      "   *  B.  Reiterate the thesis statement:  Reinforce the significance of AI's rise in India.\n",
      "   *  C.  Call to action:  Encourage readers to learn more about AI and its potential impact on India.  (e.g., suggest further reading, encourage participation in AI-related initiatives).\n",
      "   *  D.  Optimistic outlook:  End on a positive note, emphasizing the transformative potential of AI in India.\n",
      "\n",
      "**VII.  Optional Elements:**\n",
      "\n",
      "   *  A.  Infographics: Include visuals to illustrate key data points and trends.\n",
      "   *  B.  Quotes:  Incorporate quotes from industry experts and thought leaders.\n",
      "   *  C.  Interactive Elements:  Consider adding interactive elements such as polls or quizzes.\n",
      "   *  D.  References:  Cite sources to support your claims and provide credibility.\n",
      "\n",
      "This detailed outline provides a strong foundation for a comprehensive and informative blog post on the rise of AI in India. Remember to adapt the content to your target audience and writing style. Good luck!\n"
     ]
    }
   ],
   "source": [
    "print(final_state['outline'])"
   ]
  },
  {
   "cell_type": "code",
   "execution_count": null,
   "id": "d507eed3",
   "metadata": {},
   "outputs": [],
   "source": []
  }
 ],
 "metadata": {
  "kernelspec": {
   "display_name": "myenv",
   "language": "python",
   "name": "python3"
  },
  "language_info": {
   "codemirror_mode": {
    "name": "ipython",
    "version": 3
   },
   "file_extension": ".py",
   "mimetype": "text/x-python",
   "name": "python",
   "nbconvert_exporter": "python",
   "pygments_lexer": "ipython3",
   "version": "3.12.4"
  }
 },
 "nbformat": 4,
 "nbformat_minor": 5
}
